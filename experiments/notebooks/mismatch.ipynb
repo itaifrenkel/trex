{
 "cells": [
  {
   "cell_type": "markdown",
   "metadata": {},
   "source": [
    "# Mismatch\n",
    "This notebook looks at domain mismatch in a hospital dataset."
   ]
  },
  {
   "cell_type": "code",
   "execution_count": 1,
   "metadata": {},
   "outputs": [],
   "source": [
    "import os\n",
    "import sys\n",
    "sys.path.insert(0, os.getcwd() + '/../')  # for scripts\n",
    "sys.path.insert(0, os.getcwd() + '/../../')  # for util\n",
    "\n",
    "from scripts.mismatch2 import mismatch\n",
    "data_dir = '../../data'"
   ]
  },
  {
   "cell_type": "markdown",
   "metadata": {},
   "source": [
    "## Hospital Dataset\n",
    "We remove a subset of patients aged 40-50 who have been readmitted from the training data to introduce some domain mismatch between the training and test sets. We then compute the impact of different groups of the training data on the patients aged 40-50 in the test set."
   ]
  },
  {
   "cell_type": "code",
   "execution_count": 4,
   "metadata": {},
   "outputs": [
    {
     "name": "stdout",
     "output_type": "stream",
     "text": [
      "\n",
      "Original Data\n",
      "[Train] 196/1864 people aged 40-50 were readmitted.\n",
      "[Train] 1944/18136 people NOT aged 40-50 were readmitted.\n",
      "[Train] 2140/20000 people were readmitted\n",
      "model (CatBoostClassifier)\n",
      "train set acc: 0.903100\n",
      "train log loss: 0.27686\n",
      "train auroc: 0.799\n",
      "test set acc: 0.885674\n",
      "test log loss: 0.34035\n",
      "test auroc: 0.647\n",
      "\n",
      "Modified Data\n",
      "[Train] 20/1688 people aged 40-50 were readmitted.\n",
      "[Train] 1944/18136 people NOT aged 40-50 were readmitted.\n",
      "[Train] 1964/19824 people were readmitted\n",
      "model (CatBoostClassifier)\n",
      "train set acc: 0.910664\n",
      "train log loss: 0.25620\n",
      "train auroc: 0.816\n",
      "test set acc: 0.886028\n",
      "test log loss: 0.35280\n",
      "test auroc: 0.625\n",
      "\n",
      "Target test instances\n",
      "[Test] 831/7821 people aged 40-50 were readmitted.\n",
      "[Test] 8386/73945 people NOT aged 40-50 were readmitted.\n",
      "[Test] 9217/81766 people were readmitted\n",
      "[Test] people aged 40-50 accuracy: 0.894\n",
      "\n",
      "total support vectors: 4328\n",
      "age, readmit support vectors: 20\n",
      "age, no readmit support vectors: 79\n",
      "no age, readmit support vectors: 1944\n",
      "no age, no readmit support vectors: 2285\n",
      "n_subset: None\n",
      "\n",
      "ours:\n",
      "age, readmit: -15.667221582352743\n",
      "age, no readmit: 0.05761447877152372\n",
      "no age, readmit: -0.08901838638775553\n",
      "no age, no readmit: 0.009086534794495211\n"
     ]
    }
   ],
   "source": [
    "mismatch(model='cb', dataset='hospital2', encoding='leaf_output', random_state=1, data_dir=data_dir, impact_true_label=True,\n",
    "         train_true_label=True, modify=True, verbose=1)"
   ]
  },
  {
   "cell_type": "markdown",
   "metadata": {},
   "source": [
    "We compute the impact of different groups of the training data on the patients aged 40-50 in the test set without modifying the training data."
   ]
  },
  {
   "cell_type": "code",
   "execution_count": 5,
   "metadata": {},
   "outputs": [
    {
     "name": "stdout",
     "output_type": "stream",
     "text": [
      "\n",
      "Original Data\n",
      "[Train] 196/1864 people aged 40-50 were readmitted.\n",
      "[Train] 1944/18136 people NOT aged 40-50 were readmitted.\n",
      "[Train] 2140/20000 people were readmitted\n",
      "model (CatBoostClassifier)\n",
      "train set acc: 0.903100\n",
      "train log loss: 0.27686\n",
      "train auroc: 0.799\n",
      "test set acc: 0.885674\n",
      "test log loss: 0.34035\n",
      "test auroc: 0.647\n",
      "\n",
      "Target test instances\n",
      "[Test] 831/7821 people aged 40-50 were readmitted.\n",
      "[Test] 8386/73945 people NOT aged 40-50 were readmitted.\n",
      "[Test] 9217/81766 people were readmitted\n",
      "[Test] people aged 40-50 accuracy: 0.892\n",
      "\n",
      "total support vectors: 4691\n",
      "age, readmit support vectors: 196\n",
      "age, no readmit support vectors: 263\n",
      "no age, readmit support vectors: 1944\n",
      "no age, no readmit support vectors: 2288\n",
      "n_subset: None\n",
      "\n",
      "ours:\n",
      "age, readmit: -1.9368454257938115\n",
      "age, no readmit: 0.1925042963656925\n",
      "no age, readmit: -0.20589175739459\n",
      "no age, no readmit: 0.020754935763983923\n"
     ]
    }
   ],
   "source": [
    "mismatch(model='cb', dataset='hospital2', encoding='leaf_output', random_state=1, data_dir=data_dir, impact_true_label=True,\n",
    "         train_true_label=True, modify=False, verbose=1)"
   ]
  },
  {
   "cell_type": "code",
   "execution_count": null,
   "metadata": {},
   "outputs": [],
   "source": []
  }
 ],
 "metadata": {
  "kernelspec": {
   "display_name": "Python 3",
   "language": "python",
   "name": "python3"
  },
  "language_info": {
   "codemirror_mode": {
    "name": "ipython",
    "version": 3
   },
   "file_extension": ".py",
   "mimetype": "text/x-python",
   "name": "python",
   "nbconvert_exporter": "python",
   "pygments_lexer": "ipython3",
   "version": "3.7.3"
  }
 },
 "nbformat": 4,
 "nbformat_minor": 2
}
