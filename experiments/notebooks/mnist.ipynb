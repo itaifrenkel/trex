{
 "cells": [
  {
   "cell_type": "markdown",
   "metadata": {},
   "source": [
    "# MNIST\n",
    "This notebook shows sample-based explanations for individual test predictions for a tree ensemble trained on two or more classes in the MNIST dataset."
   ]
  },
  {
   "cell_type": "code",
   "execution_count": 1,
   "metadata": {},
   "outputs": [],
   "source": [
    "import os\n",
    "import sys\n",
    "sys.path.insert(0, os.getcwd() + '/../')\n",
    "\n",
    "from scripts import mnist"
   ]
  },
  {
   "cell_type": "markdown",
   "metadata": {},
   "source": [
    "### 4s and 9s\n",
    "We filter the train and test sets of MNIST to images containing either the label 4 or 9. We then train an LGB model on this two-class dataset and randomly choose a test instance to predict and explain."
   ]
  },
  {
   "cell_type": "code",
   "execution_count": 3,
   "metadata": {},
   "outputs": [
    {
     "name": "stdout",
     "output_type": "stream",
     "text": [
      "<scripts.mnist.Args object at 0x11fe3ed30>\n",
      "train instances: 11791\n",
      "test instances: 1991\n",
      "labels: [4, 9]\n",
      "784 to 50 using PCA...\n",
      "fitting lgb...\n",
      "fitting TREX...\n",
      "C=0.01: 7.084s; corr=0.992\n",
      "C=0.1: 7.392s; corr=1.000\n",
      "C=1.0: 7.490s; corr=0.999\n",
      "C=10.0: 7.097s; corr=0.996\n",
      "C=100.0: 7.817s; corr=0.993\n"
     ]
    },
    {
     "data": {
      "image/png": "[encoded data removed]",
      "text/plain": [
       "<Figure size 1152x216 with 7 Axes>"
      ]
     },
     "metadata": {},
     "output_type": "display_data"
    }
   ],
   "source": [
    "args = mnist.Args()\n",
    "args.dataset='mnist_49'\n",
    "args.tree_type='lgb'\n",
    "args.tree_kernel='leaf_output'\n",
    "args.kernel_model='lr'\n",
    "args.topk_train=3\n",
    "args.data_dir='../../data/'\n",
    "args.true_label=False\n",
    "mnist.main(args)"
   ]
  },
  {
   "cell_type": "markdown",
   "metadata": {},
   "source": [
    "The training samples shown (red border) are samples that contribute the *most* towards the *incorrect* prediction of the test instance (blue border). The first two training samples (directly right of the test instance) are both 4's that could be miscontrued as 9s. The next sample is a 9 that takes on 4-like quaities, and the last three training samples are all 4s that look similar to the test instance. One actionable item may be to remove these potentially noisy training samples that TREX has found; or possibly remove the ambiguous looking test instance, or both. However, one may wish to keep these samples depending on the type of research they are doing."
   ]
  },
  {
   "cell_type": "code",
   "execution_count": null,
   "metadata": {},
   "outputs": [],
   "source": []
  }
 ],
 "metadata": {
  "kernelspec": {
   "display_name": "Python 3",
   "language": "python",
   "name": "python3"
  },
  "language_info": {
   "codemirror_mode": {
    "name": "ipython",
    "version": 3
   },
   "file_extension": ".py",
   "mimetype": "text/x-python",
   "name": "python",
   "nbconvert_exporter": "python",
   "pygments_lexer": "ipython3",
   "version": "3.7.3"
  }
 },
 "nbformat": 4,
 "nbformat_minor": 2
}
