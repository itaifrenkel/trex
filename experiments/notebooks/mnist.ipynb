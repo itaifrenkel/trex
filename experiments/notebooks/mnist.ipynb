{
 "cells": [
  {
   "cell_type": "markdown",
   "metadata": {},
   "source": [
    "# MNIST\n",
    "This notebook shows sample-based explanations for individual test predictions for a tree ensemble trained on two or more classes in the MNIST dataset."
   ]
  },
  {
   "cell_type": "code",
   "execution_count": 1,
   "metadata": {},
   "outputs": [],
   "source": [
    "import os\n",
    "import sys\n",
    "sys.path.insert(0, os.getcwd() + '/../')\n",
    "\n",
    "from scripts import mnist"
   ]
  },
  {
   "cell_type": "markdown",
   "metadata": {},
   "source": [
    "### 4s and 9s\n",
    "We filter the train and test sets of MNIST to images containing either the label 4 or 9. We then train an LGB model on this two-class dataset and randomly choose a test instance to predict and explain."
   ]
  },
  {
   "cell_type": "code",
   "execution_count": 4,
   "metadata": {},
   "outputs": [
    {
     "name": "stdout",
     "output_type": "stream",
     "text": [
      "<scripts.mnist.Args object at 0x11d05fa58>\n",
      "train instances: 11791\n",
      "test instances: 1991\n",
      "labels: [4, 9]\n",
      "reducing features from 784 to 50 using PCA...\n",
      "fitting lgb model...\n",
      "fitting tree explainer...\n",
      "C=0.01: 10.417s; corr=0.992\n",
      "C=0.1: 10.545s; corr=1.000\n",
      "C=1.0: 12.136s; corr=0.998\n",
      "C=10.0: 7.888s; corr=0.995\n",
      "C=100.0: 10.452s; corr=0.993\n",
      "train set acc: 0.999830\n",
      "train log loss: 0.02058\n",
      "train auroc: 1.000\n",
      "test set acc: 0.977901\n",
      "test log loss: 0.06404\n",
      "test auroc: 0.998\n"
     ]
    },
    {
     "data": {
      "image/png": "[encoded data removed]",
      "text/plain": [
       "<Figure size 1152x216 with 7 Axes>"
      ]
     },
     "metadata": {},
     "output_type": "display_data"
    }
   ],
   "source": [
    "args = mnist.Args()\n",
    "args.dataset='mnist_49'            # Dataset to use.\n",
    "args.tree_type='lgb'               # cb, lgb, or xgb\n",
    "args.tree_kernel='leaf_output'     # leaf_output, leaf_path, or feature_path\n",
    "args.kernel_model='lr'             # lr or svm\n",
    "args.true_label=False              # Train on true or predicted labels\n",
    "args.topk_train=3                  # No. train instances to show\n",
    "args.data_dir='../../data/'        # Dataset directory\n",
    "args.true_label=True               # Train on true labels\n",
    "mnist.main(args)"
   ]
  },
  {
   "cell_type": "markdown",
   "metadata": {},
   "source": [
    "The training samples shown (green border) are samples that contribute the *most* towards the *incorrect* prediction of the test instance (blue border). The first two training samples (directly right of the test instance) are both 4's that could be miscontrued as 9s. The next sample is a 9 that takes on 4-like quaities, and the last three training samples are all 4s that look similar to the test instance. One actionable item may be to remove the potentially noisy training samples that TREX has found; or possibly remove the ambiguous looking test instance, or both. However, one may wish to keep these samples depending on the type of research they are doing."
   ]
  },
  {
   "cell_type": "code",
   "execution_count": null,
   "metadata": {},
   "outputs": [],
   "source": []
  }
 ],
 "metadata": {
  "kernelspec": {
   "display_name": "Python 3",
   "language": "python",
   "name": "python3"
  },
  "language_info": {
   "codemirror_mode": {
    "name": "ipython",
    "version": 3
   },
   "file_extension": ".py",
   "mimetype": "text/x-python",
   "name": "python",
   "nbconvert_exporter": "python",
   "pygments_lexer": "ipython3",
   "version": "3.7.3"
  }
 },
 "nbformat": 4,
 "nbformat_minor": 2
}
