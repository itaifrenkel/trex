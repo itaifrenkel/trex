{
 "cells": [
  {
   "cell_type": "markdown",
   "metadata": {},
   "source": [
    "# Runtime"
   ]
  },
  {
   "cell_type": "code",
   "execution_count": 1,
   "metadata": {},
   "outputs": [],
   "source": [
    "import os\n",
    "import sys\n",
    "sys.path.insert(0, os.getcwd() + '/../')  # for scripts\n",
    "\n",
    "from scripts import runtime"
   ]
  },
  {
   "cell_type": "code",
   "execution_count": 2,
   "metadata": {},
   "outputs": [
    {
     "name": "stdout",
     "output_type": "stream",
     "text": [
      "<scripts.runtime.Args object at 0x126103b00>\n",
      "\n",
      "Seed: 1\n",
      "train instances: 32,561\n",
      "test instances: 16,281\n",
      "no. features: 14\n",
      "\n",
      "train acc: 0.877, auc: 0.933, logloss: 0.272\n",
      "test  acc: 0.868, auc: 0.922, logloss: 0.287\n",
      "\n",
      "TREX...\n",
      "TREX:\n",
      "transforming training data...\n",
      "tuning...\n",
      "[Fold 1] C=0.01 : 1.835s; corr=0.908\n",
      "[Fold 1] C=0.1  : 1.852s; corr=0.956\n",
      "[Fold 1] C=1.0  : 1.843s; corr=0.968\n",
      "[Fold 1] C=10.0 : 1.273s; corr=0.947\n",
      "[Fold 1] C=100.0: 1.223s; corr=0.920\n",
      "[Fold 2] C=0.01 : 1.363s; corr=0.915\n",
      "[Fold 2] C=0.1  : 1.419s; corr=0.960\n",
      "[Fold 2] C=1.0  : 1.401s; corr=0.971\n",
      "[Fold 2] C=10.0 : 1.377s; corr=0.953\n",
      "[Fold 2] C=100.0: 1.413s; corr=0.929\n",
      "chosen C: 1.0\n",
      "total tuning time: 15.021s\n",
      "training...\n",
      "total training time: 22.942s\n",
      "fine tune: 56.664s\n",
      "computation time: 0.011s\n"
     ]
    }
   ],
   "source": [
    "args = runtime.Args()\n",
    "args.dataset='adult'\n",
    "args.tree_type='cb'\n",
    "args.n_estimators=100\n",
    "args.max_depth=5\n",
    "args.tree_kernel='tree_output'\n",
    "args.kernel_model='klr'\n",
    "args.data_dir='../../data/'\n",
    "runtime.main(args)"
   ]
  },
  {
   "cell_type": "code",
   "execution_count": null,
   "metadata": {},
   "outputs": [],
   "source": []
  }
 ],
 "metadata": {
  "kernelspec": {
   "display_name": "Python 3",
   "language": "python",
   "name": "python3"
  },
  "language_info": {
   "codemirror_mode": {
    "name": "ipython",
    "version": 3
   },
   "file_extension": ".py",
   "mimetype": "text/x-python",
   "name": "python",
   "nbconvert_exporter": "python",
   "pygments_lexer": "ipython3",
   "version": "3.7.3"
  }
 },
 "nbformat": 4,
 "nbformat_minor": 2
}
