{
 "cells": [
  {
   "cell_type": "markdown",
   "metadata": {},
   "source": [
    "# Runtime"
   ]
  },
  {
   "cell_type": "code",
   "execution_count": 1,
   "metadata": {},
   "outputs": [],
   "source": [
    "import os\n",
    "import sys\n",
    "sys.path.insert(0, os.getcwd() + '/../')  # for scripts\n",
    "\n",
    "from scripts import runtime"
   ]
  },
  {
   "cell_type": "code",
   "execution_count": 2,
   "metadata": {},
   "outputs": [
    {
     "name": "stdout",
     "output_type": "stream",
     "text": [
      "<scripts.runtime.Args object at 0x11788a320>\n",
      "train instances: 32,561\n",
      "val instances: 16,281\n",
      "test instances: 14,653\n",
      "no. features: 14\n",
      "\n",
      "train acc: 0.883, auc: 0.937, logloss: 0.265\n",
      "test  acc: 0.868, auc: 0.923, logloss: 0.286\n",
      "\n",
      "TREX...\n",
      "fine tune: 38.187s\n",
      "test time: 0.009s\n"
     ]
    }
   ],
   "source": [
    "args = runtime.Args()\n",
    "args.dataset='adult'\n",
    "args.tree_type='cb'\n",
    "args.tree_kernel='leaf_output'\n",
    "args.data_dir='../../data/'\n",
    "runtime.main(args)"
   ]
  },
  {
   "cell_type": "code",
   "execution_count": null,
   "metadata": {},
   "outputs": [],
   "source": []
  }
 ],
 "metadata": {
  "kernelspec": {
   "display_name": "Python 3",
   "language": "python",
   "name": "python3"
  },
  "language_info": {
   "codemirror_mode": {
    "name": "ipython",
    "version": 3
   },
   "file_extension": ".py",
   "mimetype": "text/x-python",
   "name": "python",
   "nbconvert_exporter": "python",
   "pygments_lexer": "ipython3",
   "version": "3.7.3"
  }
 },
 "nbformat": 4,
 "nbformat_minor": 2
}
